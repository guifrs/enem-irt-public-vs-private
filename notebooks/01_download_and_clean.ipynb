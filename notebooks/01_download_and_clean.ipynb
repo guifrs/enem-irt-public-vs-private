{
 "cells": [
  {
   "cell_type": "code",
   "execution_count": null,
   "id": "84ef675a",
   "metadata": {},
   "outputs": [],
   "source": [
    "import sys\n",
    "\n",
    "sys.path.insert(0, '../') \n",
    "\n",
    "from src.data.make_dataset import download, extract"
   ]
  },
  {
   "cell_type": "code",
   "execution_count": null,
   "id": "cfa20e55",
   "metadata": {},
   "outputs": [],
   "source": [
    "zip_path = download()\n",
    "extract(zip_path)"
   ]
  }
 ],
 "metadata": {
  "kernelspec": {
   "display_name": ".venv",
   "language": "python",
   "name": "python3"
  },
  "language_info": {
   "codemirror_mode": {
    "name": "ipython",
    "version": 3
   },
   "file_extension": ".py",
   "mimetype": "text/x-python",
   "name": "python",
   "nbconvert_exporter": "python",
   "pygments_lexer": "ipython3",
   "version": "3.12.6"
  }
 },
 "nbformat": 4,
 "nbformat_minor": 5
}
